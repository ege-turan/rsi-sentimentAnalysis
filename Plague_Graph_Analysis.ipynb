{
 "cells": [
  {
   "cell_type": "markdown",
   "metadata": {},
   "source": [
    "# One Hundred Years of Solitude - Python code\n",
    "[https://medium.com/@finalfire](https://medium.com/@finalfire)"
   ]
  },
  {
   "cell_type": "code",
   "execution_count": 2,
   "metadata": {
    "collapsed": true
   },
   "outputs": [],
   "source": [
    "# from tinydb import TinyDB, Query\n",
    "\n",
    "# db = TinyDB('characters.json')\n",
    "\n",
    "# read all of the characters from the list\n",
    "# the list has been created by POS-tagging all of the file 'text'\n",
    "# using nltk\n",
    "# with open('characters_list.txt') as in_file:\n",
    "#     chars = [row.strip() for row in in_file]\n",
    "# chars"
   ]
  },
  {
   "cell_type": "code",
   "execution_count": 2,
   "metadata": {
    "collapsed": false
   },
   "outputs": [],
   "source": [
    "%matplotlib inline\n",
    "import re\n",
    "import nltk\n",
    "\n",
    "\n",
    "def build_regexp(c):\n",
    "    \"\"\"\n",
    "    Creates the appropriate regex for the expressions\n",
    "    N(M) or N,M\n",
    "    \"\"\"\n",
    "    if '(' in c:\n",
    "        a, b = c.split(' ')\n",
    "        b = b[1:-1]\n",
    "        r = r\"{}( {})?\".format(a, b)\n",
    "        return r\n",
    "    if ',' in c:\n",
    "        a, b = c.split(',')\n",
    "        r = r\"({}|{})\".format(a, b)\n",
    "        return r    \n",
    "    return r\"{}\".format(c)\n",
    "\n",
    "\n",
    "## save everything\n",
    "with open('characters_list.txt') as x:\n",
    "    characters = [l.strip() for l in x]\n",
    "\n",
    "with open('text') as x:\n",
    "    text = [l.strip() for l in x]\n",
    "raw = ' '.join(text)\n",
    "\n",
    "## map the characters\n",
    "chars = {}\n",
    "\n",
    "for it, c in enumerate(characters):\n",
    "    chars[it] = c    \n",
    "    template = '{}'.format(it)\n",
    "    regexp = re.compile(build_regexp(c))\n",
    "    raw = re.sub(regexp, template, raw)"
   ]
  },
  {
   "cell_type": "code",
   "execution_count": 3,
   "metadata": {
    "collapsed": false
   },
   "outputs": [
    {
     "name": "stdout",
     "output_type": "stream",
     "text": [
      "Total characters: 71\n",
      "Node w/o edges: Arnaldo\n",
      "Node w/o edges: Colonel Gerineldo Márquez\n",
      "Node w/o edges: Petronila Iguarán\n",
      "Node w/o edges: Amparo Mos\n",
      "Node w/o edges: Colonel Gregorio Stevenson\n",
      "Node w/o edges: Doña Fernanda del Carpio de Buendía\n",
      "Node w/o edges: Don Melchor Escalona\n",
      "Node w/o edges: Dr. Alirio Noguera\n",
      "Total characters minus solitude nodes: 62\n"
     ]
    }
   ],
   "source": [
    "import networkx as nx\n",
    "\n",
    "print('Total characters:', len(characters))\n",
    "\n",
    "# build the graph\n",
    "g = nx.Graph()\n",
    "# add nodes\n",
    "for c in characters:\n",
    "    g.add_node(c)\n",
    "\n",
    "# tokenize the text\n",
    "words = [n for n in nltk.word_tokenize(raw) if n != ',' and n != '.']\n",
    "\n",
    "# utils list\n",
    "characters_rep = [str(i) for i in range(len(characters))]\n",
    "\n",
    "# forward threshold\n",
    "fwd_t = 30\n",
    "# check for each character\n",
    "for it, c in enumerate(characters):\n",
    "    for i, word in enumerate(words):\n",
    "        if word == str(it):\n",
    "            for d in range(i, i + fwd_t + 1):\n",
    "                if d < len(words):\n",
    "                    if words[d] in characters_rep and words[d] != word:\n",
    "                        src_node = chars[int(word)]\n",
    "                        target_node = chars[int(words[d])]\n",
    "                        if target_node not in g[src_node]:\n",
    "                            g.add_edge(src_node, target_node, weight=1)\n",
    "                        else:\n",
    "                            g[src_node][target_node]['weight'] += 1\n",
    "\n",
    "# remove nodes w/o edges\n",
    "removed = set()\n",
    "for node in g.nodes():\n",
    "    if not g[node]:\n",
    "        print('Node w/o edges:', node)\n",
    "        g.remove_node(node)\n",
    "        removed.add(node)\n",
    "\n",
    "print('Total characters minus solitude nodes:', len(g.nodes()))\n",
    "\n",
    "nx.write_graphml(g, 'output.graphml')"
   ]
  },
  {
   "cell_type": "code",
   "execution_count": 23,
   "metadata": {
    "collapsed": false,
    "scrolled": false
   },
   "outputs": [
    {
     "name": "stdout",
     "output_type": "stream",
     "text": [
      "Diameter: 6\n",
      "Degree centrality: {'Dagoberto Fonseca': 0.01639344262295082, 'Nicanor Ulloa': 0.03278688524590164, 'Captain Aquiles Ricardo': 0.03278688524590164, 'Captain Roque Carnicero': 0.03278688524590164, 'Mauricio Babilonia': 0.06557377049180328, 'Fernanda del Carpio': 0.04918032786885246, 'Francisco the Man': 0.11475409836065574, 'Pilar Ternera': 0.18032786885245902, 'Pietro Crespi': 0.1639344262295082, 'Don Apolinar Moscote': 0.14754098360655737, 'Mr. Herbert': 0.04918032786885246, 'Gaston': 0.04918032786885246, 'Úrsula (Iguarán)': 0.5409836065573771, 'Monk Hermann': 0.0819672131147541, 'Gabriel': 0.09836065573770492, 'Amaranta': 0.4426229508196722, 'Aureliano Triste': 0.11475409836065574, 'Petronio': 0.01639344262295082, 'Patricia Brown': 0.06557377049180328, 'José Raquel Moncada': 0.04918032786885246, 'Aureliano Serrador': 0.04918032786885246, 'Rebeca': 0.3114754098360656, 'Remedios,Meme': 0.42622950819672134, 'Carmelita Montiel': 0.03278688524590164, 'Nigromanta': 0.03278688524590164, 'Mr. Jack Brown': 0.03278688524590164, 'Camila Sagastume,The Elephant': 0.03278688524590164, 'Amparo (Moscote)': 0.11475409836065574, 'Aureliano Amador': 0.01639344262295082, 'Melquíades': 0.21311475409836067, 'Señora (Moscote)': 0.03278688524590164, 'Father Coronel': 0.03278688524590164, 'Petra Cotes': 0.14754098360655737, 'Alexander von Humboldt': 0.01639344262295082, 'Father Antonio Isabel': 0.09836065573770492, 'General Teófilo Vargas': 0.01639344262295082, 'Prudencio Aguilar': 0.0819672131147541, 'Colonel Aureliano Buendía': 0.4098360655737705, 'Father Nicanor Reyna': 0.04918032786885246, 'Artemio Cruz': 0.03278688524590164, 'Magnífico (Visbal)': 0.0819672131147541, 'Victor Hugues': 0.01639344262295082, 'Sir Francis Drake': 0.0819672131147541, 'Rebeca Montiel': 0.01639344262295082, 'Catarino': 0.01639344262295082, 'Victorio Medina': 0.06557377049180328, 'Santa Sofía de la Piedad': 0.21311475409836067, 'Visitación': 0.09836065573770492, 'Alfonso': 0.04918032786885246, 'Aureliano Segundo': 0.3770491803278689, 'Álvaro': 0.04918032786885246, 'Aureliano Arcaya': 0.03278688524590164, 'Don Fernando': 0.01639344262295082, 'José Arcadio Buendía': 0.29508196721311475, 'Lorenzo Gavilán': 0.03278688524590164, 'José Arcadio Segundo': 0.24590163934426232, 'Germán': 0.04918032786885246, 'Gerineldo (Márquez)': 0.24590163934426232, 'Renata (Remedios)': 0.09836065573770492, 'Aureliano Centeno': 0.0819672131147541, 'Bruno Crespi': 0.04918032786885246, 'Sir Walter Raleigh': 0.01639344262295082}\n",
      "Betweennes centrality: {'Dagoberto Fonseca': 0.0, 'Nicanor Ulloa': 0.0, 'Captain Aquiles Ricardo': 0.002433862433862433, 'Captain Roque Carnicero': 0.0, 'Mauricio Babilonia': 0.00018214936247723133, 'Fernanda del Carpio': 0.0, 'Francisco the Man': 0.0015255009107468125, 'Pilar Ternera': 0.004901243333258763, 'Pietro Crespi': 0.02138087879119702, 'Don Apolinar Moscote': 0.007205012423913096, 'Mr. Herbert': 0.06448087431693988, 'Gaston': 0.0, 'Úrsula (Iguarán)': 0.2667522525868717, 'Monk Hermann': 0.0004250151791135397, 'Gabriel': 0.09508196721311475, 'Amaranta': 0.09939612889878077, 'Aureliano Triste': 0.0009151231282378822, 'Petronio': 0.0, 'Patricia Brown': 0.0003968253968253968, 'José Raquel Moncada': 0.0, 'Aureliano Serrador': 0.000273224043715847, 'Rebeca': 0.04041237996083704, 'Remedios,Meme': 0.12191073285263258, 'Carmelita Montiel': 0.0019581056466302363, 'Nigromanta': 0.0, 'Mr. Jack Brown': 0.03278688524590164, 'Camila Sagastume,The Elephant': 0.0, 'Amparo (Moscote)': 0.04313642539823831, 'Aureliano Amador': 0.0, 'Melquíades': 0.04185479524582706, 'Señora (Moscote)': 0.0, 'Father Coronel': 0.0, 'Petra Cotes': 0.015311171827565268, 'Alexander von Humboldt': 0.0, 'Father Antonio Isabel': 5.46448087431694e-05, 'General Teófilo Vargas': 0.0, 'Prudencio Aguilar': 0.0, 'Colonel Aureliano Buendía': 0.24285723082589036, 'Father Nicanor Reyna': 0.0, 'Artemio Cruz': 0.0, 'Magnífico (Visbal)': 0.0002968798050765264, 'Victor Hugues': 0.0, 'Sir Francis Drake': 0.0015794951860525633, 'Rebeca Montiel': 0.0, 'Catarino': 0.0, 'Victorio Medina': 0.0014775782808569696, 'Santa Sofía de la Piedad': 0.007944851141572453, 'Visitación': 0.0, 'Alfonso': 0.0, 'Aureliano Segundo': 0.13330215761773137, 'Álvaro': 0.0, 'Aureliano Arcaya': 0.0, 'Don Fernando': 0.0, 'José Arcadio Buendía': 0.041572390947029345, 'Lorenzo Gavilán': 0.0, 'José Arcadio Segundo': 0.12999823188347776, 'Germán': 0.0, 'Gerineldo (Márquez)': 0.032163167808298, 'Renata (Remedios)': 0.03278688524590164, 'Aureliano Centeno': 0.004247753746307267, 'Bruno Crespi': 0.0013479052823315118, 'Sir Walter Raleigh': 0.0}\n",
      "Closeness centrality: {'Dagoberto Fonseca': 0.23018867924528302, 'Nicanor Ulloa': 0.3609467455621302, 'Captain Aquiles Ricardo': 0.4066666666666667, 'Captain Roque Carnicero': 0.38125, 'Mauricio Babilonia': 0.40397350993377484, 'Fernanda del Carpio': 0.4357142857142857, 'Francisco the Man': 0.46564885496183206, 'Pilar Ternera': 0.5083333333333333, 'Pietro Crespi': 0.45864661654135336, 'Don Apolinar Moscote': 0.48031496062992124, 'Mr. Herbert': 0.41496598639455784, 'Gaston': 0.4206896551724138, 'Úrsula (Iguarán)': 0.6630434782608695, 'Monk Hermann': 0.4420289855072464, 'Gabriel': 0.45185185185185184, 'Amaranta': 0.6039603960396039, 'Aureliano Triste': 0.46923076923076923, 'Petronio': 0.3446327683615819, 'Patricia Brown': 0.41216216216216217, 'José Raquel Moncada': 0.4326241134751773, 'Aureliano Serrador': 0.3836477987421384, 'Rebeca': 0.5350877192982456, 'Remedios,Meme': 0.5980392156862745, 'Carmelita Montiel': 0.3836477987421384, 'Nigromanta': 0.40939597315436244, 'Mr. Jack Brown': 0.2975609756097561, 'Camila Sagastume,The Elephant': 0.3719512195121951, 'Amparo (Moscote)': 0.44525547445255476, 'Aureliano Amador': 0.3696969696969697, 'Melquíades': 0.5213675213675214, 'Señora (Moscote)': 0.40939597315436244, 'Father Coronel': 0.3128205128205128, 'Petra Cotes': 0.4959349593495935, 'Alexander von Humboldt': 0.3446327683615819, 'Father Antonio Isabel': 0.4420289855072464, 'General Teófilo Vargas': 0.37888198757763975, 'Prudencio Aguilar': 0.4295774647887324, 'Colonel Aureliano Buendía': 0.6039603960396039, 'Father Nicanor Reyna': 0.3961038961038961, 'Artemio Cruz': 0.3465909090909091, 'Magnífico (Visbal)': 0.4295774647887324, 'Victor Hugues': 0.40131578947368424, 'Sir Francis Drake': 0.4326241134751773, 'Rebeca Montiel': 0.40131578947368424, 'Catarino': 0.3446327683615819, 'Victorio Medina': 0.40939597315436244, 'Santa Sofía de la Piedad': 0.5213675213675214, 'Visitación': 0.4295774647887324, 'Alfonso': 0.3160621761658031, 'Aureliano Segundo': 0.580952380952381, 'Álvaro': 0.3160621761658031, 'Aureliano Arcaya': 0.38125, 'Don Fernando': 0.3112244897959184, 'José Arcadio Buendía': 0.5258620689655172, 'Lorenzo Gavilán': 0.3465909090909091, 'José Arcadio Segundo': 0.5213675213675214, 'Germán': 0.3160621761658031, 'Gerineldo (Márquez)': 0.5398230088495575, 'Renata (Remedios)': 0.4485294117647059, 'Aureliano Centeno': 0.44525547445255476, 'Bruno Crespi': 0.324468085106383, 'Sir Walter Raleigh': 0.3765432098765432}\n",
      "Pagerank: {'Dagoberto Fonseca': 0.0033975084937713455, 'Nicanor Ulloa': 0.0033975084937713455, 'Captain Aquiles Ricardo': 0.0033975084937713455, 'Captain Roque Carnicero': 0.0038614329182131224, 'Mauricio Babilonia': 0.012542755484704097, 'Fernanda del Carpio': 0.004907383684056153, 'Francisco the Man': 0.0049150912907995085, 'Pilar Ternera': 0.009985982962300126, 'Pietro Crespi': 0.025652747618277523, 'Don Apolinar Moscote': 0.008559753893187028, 'Mr. Herbert': 0.0033975084937713455, 'Gaston': 0.006520601177681339, 'Úrsula (Iguarán)': 0.17156185117224057, 'Monk Hermann': 0.0033975084937713455, 'Gabriel': 0.010039718547140199, 'Amaranta': 0.12366469289029483, 'Aureliano Triste': 0.01134808632028015, 'Petronio': 0.0042572187034231575, 'Patricia Brown': 0.005549033860231484, 'José Raquel Moncada': 0.004219722454848178, 'Aureliano Serrador': 0.0033975084937713455, 'Rebeca': 0.05038440284249313, 'Remedios,Meme': 0.07307249066891094, 'Carmelita Montiel': 0.0033975084937713455, 'Nigromanta': 0.0040937849378803555, 'Mr. Jack Brown': 0.0033975084937713455, 'Camila Sagastume,The Elephant': 0.005740399838993522, 'Amparo (Moscote)': 0.008743702891942984, 'Aureliano Amador': 0.0033975084937713455, 'Melquíades': 0.016609494850555254, 'Señora (Moscote)': 0.0037557980304064004, 'Father Coronel': 0.0033975084937713455, 'Petra Cotes': 0.0198120758262699, 'Alexander von Humboldt': 0.0033975084937713455, 'Father Antonio Isabel': 0.00445207447451541, 'General Teófilo Vargas': 0.0038614329182131224, 'Prudencio Aguilar': 0.010522824718854476, 'Colonel Aureliano Buendía': 0.05675666606488759, 'Father Nicanor Reyna': 0.003776231973825693, 'Artemio Cruz': 0.0033975084937713455, 'Magnífico (Visbal)': 0.004260170093874509, 'Victor Hugues': 0.0033975084937713455, 'Sir Francis Drake': 0.0037557980304064004, 'Rebeca Montiel': 0.0033975084937713455, 'Catarino': 0.0033975084937713455, 'Victorio Medina': 0.0033975084937713455, 'Santa Sofía de la Piedad': 0.019306161437334376, 'Visitación': 0.0037604404029225043, 'Alfonso': 0.0246843390753326, 'Aureliano Segundo': 0.07046849370681336, 'Álvaro': 0.008647945273814867, 'Aureliano Arcaya': 0.0033975084937713455, 'Don Fernando': 0.0033975084937713455, 'José Arcadio Buendía': 0.041642447138235415, 'Lorenzo Gavilán': 0.0033975084937713455, 'José Arcadio Segundo': 0.02629735367372718, 'Germán': 0.013898382053858389, 'Gerineldo (Márquez)': 0.027403321055345466, 'Renata (Remedios)': 0.009431631501289027, 'Aureliano Centeno': 0.005928385172421249, 'Bruno Crespi': 0.0033975084937713455, 'Sir Walter Raleigh': 0.0033975084937713455}\n"
     ]
    },
    {
     "name": "stderr",
     "output_type": "stream",
     "text": [
      "/conda/anaconda/lib/python3.5/site-packages/networkx/generators/stochastic.py:56: UserWarning: zero out-degree for node Dagoberto Fonseca\n",
      "  warnings.warn('zero out-degree for node %s' % u)\n",
      "/conda/anaconda/lib/python3.5/site-packages/networkx/generators/stochastic.py:56: UserWarning: zero out-degree for node Nicanor Ulloa\n",
      "  warnings.warn('zero out-degree for node %s' % u)\n",
      "/conda/anaconda/lib/python3.5/site-packages/networkx/generators/stochastic.py:56: UserWarning: zero out-degree for node Captain Aquiles Ricardo\n",
      "  warnings.warn('zero out-degree for node %s' % u)\n",
      "/conda/anaconda/lib/python3.5/site-packages/networkx/generators/stochastic.py:56: UserWarning: zero out-degree for node Father Coronel\n",
      "  warnings.warn('zero out-degree for node %s' % u)\n",
      "/conda/anaconda/lib/python3.5/site-packages/networkx/generators/stochastic.py:56: UserWarning: zero out-degree for node Mr. Herbert\n",
      "  warnings.warn('zero out-degree for node %s' % u)\n",
      "/conda/anaconda/lib/python3.5/site-packages/networkx/generators/stochastic.py:56: UserWarning: zero out-degree for node Sir Walter Raleigh\n",
      "  warnings.warn('zero out-degree for node %s' % u)\n",
      "/conda/anaconda/lib/python3.5/site-packages/networkx/generators/stochastic.py:56: UserWarning: zero out-degree for node Aureliano Serrador\n",
      "  warnings.warn('zero out-degree for node %s' % u)\n",
      "/conda/anaconda/lib/python3.5/site-packages/networkx/generators/stochastic.py:56: UserWarning: zero out-degree for node Carmelita Montiel\n",
      "  warnings.warn('zero out-degree for node %s' % u)\n",
      "/conda/anaconda/lib/python3.5/site-packages/networkx/generators/stochastic.py:56: UserWarning: zero out-degree for node Mr. Jack Brown\n",
      "  warnings.warn('zero out-degree for node %s' % u)\n",
      "/conda/anaconda/lib/python3.5/site-packages/networkx/generators/stochastic.py:56: UserWarning: zero out-degree for node Lorenzo Gavilán\n",
      "  warnings.warn('zero out-degree for node %s' % u)\n",
      "/conda/anaconda/lib/python3.5/site-packages/networkx/generators/stochastic.py:56: UserWarning: zero out-degree for node Aureliano Amador\n",
      "  warnings.warn('zero out-degree for node %s' % u)\n",
      "/conda/anaconda/lib/python3.5/site-packages/networkx/generators/stochastic.py:56: UserWarning: zero out-degree for node Alexander von Humboldt\n",
      "  warnings.warn('zero out-degree for node %s' % u)\n",
      "/conda/anaconda/lib/python3.5/site-packages/networkx/generators/stochastic.py:56: UserWarning: zero out-degree for node Artemio Cruz\n",
      "  warnings.warn('zero out-degree for node %s' % u)\n",
      "/conda/anaconda/lib/python3.5/site-packages/networkx/generators/stochastic.py:56: UserWarning: zero out-degree for node Victor Hugues\n",
      "  warnings.warn('zero out-degree for node %s' % u)\n",
      "/conda/anaconda/lib/python3.5/site-packages/networkx/generators/stochastic.py:56: UserWarning: zero out-degree for node Rebeca Montiel\n",
      "  warnings.warn('zero out-degree for node %s' % u)\n",
      "/conda/anaconda/lib/python3.5/site-packages/networkx/generators/stochastic.py:56: UserWarning: zero out-degree for node Catarino\n",
      "  warnings.warn('zero out-degree for node %s' % u)\n",
      "/conda/anaconda/lib/python3.5/site-packages/networkx/generators/stochastic.py:56: UserWarning: zero out-degree for node Victorio Medina\n",
      "  warnings.warn('zero out-degree for node %s' % u)\n",
      "/conda/anaconda/lib/python3.5/site-packages/networkx/generators/stochastic.py:56: UserWarning: zero out-degree for node Aureliano Arcaya\n",
      "  warnings.warn('zero out-degree for node %s' % u)\n",
      "/conda/anaconda/lib/python3.5/site-packages/networkx/generators/stochastic.py:56: UserWarning: zero out-degree for node Don Fernando\n",
      "  warnings.warn('zero out-degree for node %s' % u)\n",
      "/conda/anaconda/lib/python3.5/site-packages/networkx/generators/stochastic.py:56: UserWarning: zero out-degree for node Monk Hermann\n",
      "  warnings.warn('zero out-degree for node %s' % u)\n",
      "/conda/anaconda/lib/python3.5/site-packages/networkx/generators/stochastic.py:56: UserWarning: zero out-degree for node Bruno Crespi\n",
      "  warnings.warn('zero out-degree for node %s' % u)\n"
     ]
    }
   ],
   "source": [
    "print('Diameter:', nx.diameter(g))\n",
    "print('Degree centrality:', nx.degree_centrality(g))\n",
    "print('Betweennes centrality:', nx.betweenness_centrality(g))\n",
    "#print('Closeness centrality:', nx.closeness_centrality(g))\n",
    "#print('Pagerank:', nx.pagerank(g))"
   ]
  },
  {
   "cell_type": "code",
   "execution_count": 32,
   "metadata": {
    "collapsed": false
   },
   "outputs": [],
   "source": [
    "# save to neo4j\n",
    "from py2neo import Graph, Node, Relationship\n",
    "\n",
    "g4 = Graph(user=\"neo4j\", password=\"\")\n",
    "tx = g4.begin()\n",
    "\n",
    "V = {}\n",
    "\n",
    "# create nodes\n",
    "for c in g.nodes():\n",
    "    V[c] = Node(\"Character\", name=c)\n",
    "    tx.create(V[c])\n",
    "\n",
    "# save edges\n",
    "for i, a in enumerate(g.nodes()):\n",
    "    for j, b in enumerate(g.nodes()):\n",
    "        if i < j:\n",
    "            if b in g[a]:\n",
    "                #w = g[a][b]['weight']\n",
    "                tx.create(Relationship(V[a], 'INTERACTS', V[b]))\n",
    "\n",
    "tx.commit()"
   ]
  }
 ],
 "metadata": {
  "kernelspec": {
   "display_name": "Python 3",
   "language": "python",
   "name": "python3"
  },
  "language_info": {
   "codemirror_mode": {
    "name": "ipython",
    "version": 3
   },
   "file_extension": ".py",
   "mimetype": "text/x-python",
   "name": "python",
   "nbconvert_exporter": "python",
   "pygments_lexer": "ipython3",
   "version": "3.5.2"
  }
 },
 "nbformat": 4,
 "nbformat_minor": 0
}
