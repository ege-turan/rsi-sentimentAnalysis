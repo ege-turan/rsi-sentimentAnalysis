{
 "cells": [
  {
   "cell_type": "markdown",
   "metadata": {},
   "source": [
    "# One Hundred Years of Solitude - Python code\n",
    "[https://medium.com/@finalfire](https://medium.com/@finalfire)"
   ]
  },
  {
   "cell_type": "code",
   "execution_count": 17,
   "metadata": {
    "collapsed": false
   },
   "outputs": [],
   "source": [
    "%matplotlib inline\n",
    "import nltk\n",
    "import re\n",
    "\n",
    "# Open the book\n",
    "with open('text') as t:\n",
    "    text = [l.strip() for l in t]\n",
    "\n",
    "# PLEASE STAY LOW!\n",
    "text = [t.lower() for t in text][:-10]\n",
    "\n",
    "# Remove 'chapter i' strings\n",
    "regexp = re.compile(r'chapter \\d')\n",
    "text = [t for t in text if not re.match(regexp, t)]\n",
    "\n",
    "# Raw text (one huge giant string)\n",
    "raw = ' '.join(text)\n",
    "\n",
    "# Here's the magic\n",
    "tokens = [t for t in nltk.word_tokenize(raw) if t not in (',', '“', '”', '\"')]\n",
    "\n",
    "# (1) lexical_richness\n",
    "distinct_tokens = set(tokens)\n",
    "lexical_richness = len(distinct_tokens) / len(tokens)"
   ]
  },
  {
   "cell_type": "code",
   "execution_count": 31,
   "metadata": {
    "collapsed": false
   },
   "outputs": [
    {
     "name": "stdout",
     "output_type": "stream",
     "text": [
      "[('the', 10870), ('.', 5084), ('of', 5039), ('and', 4177), ('to', 3676), ('a', 3177), ('that', 3147), ('in', 3020), ('he', 2716), ('was', 2367), ('had', 2175), ('her', 2046), ('with', 2010), ('she', 1978), ('his', 1936), ('on', 1158), ('him', 1121), ('not', 1086), ('it', 1058), ('for', 1039), ('they', 951), ('as', 869), ('by', 794), ('would', 791), ('at', 772), ('aureliano', 769), ('but', 724), ('who', 670), ('when', 662), ('were', 650), ('one', 602), ('from', 594), ('so', 555), ('time', 542), ('an', 502), ('them', 473), ('did', 470), ('arcadio', 464), ('úrsula', 456), ('josé', 436), ('up', 431), ('which', 422), ('house', 414), ('been', 414), ('out', 397), ('their', 386), ('buendía', 386), ('only', 372), ('be', 366), ('because', 349), ('all', 343), ('into', 342), ('could', 330), ('about', 322), ('have', 316), ('no', 311), ('colonel', 302), ('more', 298), ('said', 298), ('amaranta', 286), ('segundo', 283), ('then', 264), ('where', 261), ('even', 258), ('like', 252), ('without', 249), ('put', 231), ('went', 228), ('first', 226), ('there', 222), ('made', 209), ('over', 207), ('room', 205), ('until', 204), ('any', 203), ('took', 201), ('after', 200), ('before', 193), ('if', 192), ('than', 192), ('through', 191), ('fernanda', 187), ('same', 186), ('two', 185), ('other', 184), ('macondo', 173), ('back', 170), ('night', 170), ('man', 170), ('left', 169), ('what', 168), ('during', 166), ('day', 166), ('years', 162), ('found', 161), ('much', 158), ('or', 154), ('those', 153), ('old', 152), ('saw', 152), ('way', 151), ('you', 150), ('thought', 149), ('never', 148), ('told', 147), ('himself', 147), ('gave', 147), ('little', 147), ('many', 147), ('down', 146), ('still', 145), (':', 143), ('order', 140), ('later', 138), ('war', 138), ('brought', 135), ('death', 134), ('days', 133), ('off', 133), ('go', 131), ('felt', 130), ('some', 130), ('woman', 128), ('see', 126), ('last', 126), ('came', 125), ('long', 123), ('three', 123), ('going', 121), ('people', 120), ('door', 118), ('town', 117), ('come', 116), ('again', 116), ('hand', 115), ('most', 115), ('rebeca', 114), ('asked', 114), ('while', 114), ('take', 113), ('children', 110), ('love', 109), ('since', 109), ('father', 108), ('life', 108), ('bed', 108), ('herself', 107), ('remedios', 107), ('get', 107), ('such', 106), ('its', 106), ('world', 106), ('months', 106), ('eyes', 103), ('family', 101), ('men', 101), ('how', 101), ('under', 100), ('times', 98), ('is', 98), ('began', 97), ('lost', 97), ('tried', 97), ('away', 97), ('things', 96), ('just', 96), ('afternoon', 96), ('own', 95), ('seemed', 95), ('meme', 88), ('against', 88), ('head', 87), ('bedroom', 87), ('moment', 86), ('make', 86), ('knew', 86), ('along', 86), ('seen', 86), ('place', 84), ('let', 84), ('morning', 84), ('every', 83), ('ever', 83), ('do', 83), ('became', 83), ('always', 82), ('being', 82), ('several', 80), ('look', 79), ('heart', 79), ('looked', 79), ('end', 78), ('having', 78), ('this', 78), ('kept', 78), ('child', 78), ('“i', 76), ('once', 76), ('gerineldo', 76), ('name', 76)]\n"
     ]
    }
   ],
   "source": [
    "freq = nltk.FreqDist(tokens)\n",
    "print(freq.most_common(200))"
   ]
  },
  {
   "cell_type": "code",
   "execution_count": 35,
   "metadata": {
    "collapsed": false
   },
   "outputs": [
    {
     "data": {
      "image/png": "[encoded data removed]",
      "text/plain": [
       "<matplotlib.figure.Figure at 0x116c9bcc0>"
      ]
     },
     "metadata": {},
     "output_type": "display_data"
    }
   ],
   "source": [
    "ntext = nltk.Text(tokens)\n",
    "ntext.dispersion_plot(['time', 'solitude', 'love', 'life', 'death'])"
   ]
  },
  {
   "cell_type": "code",
   "execution_count": 59,
   "metadata": {
    "collapsed": false
   },
   "outputs": [
    {
     "name": "stdout",
     "output_type": "stream",
     "text": [
      "epaulets, upsetting, civilization, motilón, marshal, domain, gluttons, despised, secretary, consulting, vise, forty-seven, modify, parrot, thirty-five, jeopardize, highest-flying, docility, wishing, rebuffs, wisely, walter, piglets, cans, dainties, demented, ports, chalice, mitigated, paragraphs, riddle, huts, alexandria, shuttered, consummate, adulterous, hoof, drugstore, tap-dancing, fabric\n"
     ]
    }
   ],
   "source": [
    "import random\n",
    "print(', '.join([w for w in random.sample(freq.hapaxes(), 40)]))"
   ]
  },
  {
   "cell_type": "code",
   "execution_count": 71,
   "metadata": {
    "collapsed": false
   },
   "outputs": [
    {
     "name": "stdout",
     "output_type": "stream",
     "text": [
      "josé arcadio; colonel buendía; aureliano segundo; colonel aureliano;\n",
      "aureliano buendía; josé buendía; arcadio buendía; gerineldo márquez;\n",
      "santa sofía; pietro crespi; petra cotes; remedios beauty; pilar\n",
      "ternera; colonel gerineldo; colonel márquez; josé segundo; arcadio\n",
      "segundo; amaranta úrsula; chestnut tree; banana company\n"
     ]
    }
   ],
   "source": [
    "ntext.collocations(window_size=3)"
   ]
  }
 ],
 "metadata": {
  "kernelspec": {
   "display_name": "Python 3",
   "language": "python",
   "name": "python3"
  },
  "language_info": {
   "codemirror_mode": {
    "name": "ipython",
    "version": 3
   },
   "file_extension": ".py",
   "mimetype": "text/x-python",
   "name": "python",
   "nbconvert_exporter": "python",
   "pygments_lexer": "ipython3",
   "version": "3.5.2"
  }
 },
 "nbformat": 4,
 "nbformat_minor": 0
}
